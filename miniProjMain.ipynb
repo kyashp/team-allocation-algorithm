{
 "cells": [
  {
   "cell_type": "markdown",
   "id": "becfd007-d92b-4329-9688-68cb1e2dfba3",
   "metadata": {},
   "source": [
    "# Team Allocation Simulator\n",
    "### Group 2\n",
    "- Nuvaan Murugesan [Nuvaan001@e.ntu.edu.sg]\n",
    "- Kevin Philips [Kevi0028@e.ntu.edu.sg]\n",
    "- Miguel Poyaoan Velasco [Miguel001@e.ntu.edu.sg]\n",
    "- Kumaravel Yashpreethu [Kuma0033@e.ntu.edu.sg]"
   ]
  },
  {
   "cell_type": "markdown",
   "id": "3973e361-3d3b-4c27-8ad9-68dab7442d48",
   "metadata": {},
   "source": [
    "### Contents"
   ]
  },
  {
   "cell_type": "markdown",
   "id": "eda3765b-0ed1-4acc-941e-3f801c40977c",
   "metadata": {},
   "source": [
    "1. Planning and Design:\n",
    "- Problem decomposition\n",
    "    - Flow Charts\n",
    "    - Data Analysis\n",
    "    - Divide and Conquer\n",
    "\n",
    "2. Algorithm Evaluation\n",
    "3. Challenges and Issues\n",
    "4. Conclusion"
   ]
  },
  {
   "cell_type": "markdown",
   "id": "68c22048-b024-4116-a72f-ba79c0cb47c7",
   "metadata": {},
   "source": [
    "# Planning and Design"
   ]
  },
  {
   "cell_type": "markdown",
   "id": "c94c7755-9cc1-4ed7-87dd-dbc405707c1b",
   "metadata": {},
   "source": [
    "## General Flow of program and algorithm"
   ]
  },
  {
   "cell_type": "markdown",
   "id": "419bf810-79fd-49e1-90d2-a4a9069bf75f",
   "metadata": {},
   "source": [
    "<img src=\"assets/main_flow.png\" alt=\"main_flow\" width=\"20%\" height=\"20%\"> "
   ]
  },
  {
   "cell_type": "markdown",
   "id": "fe676d36-58a1-4205-ae7b-c84d32898ecb",
   "metadata": {},
   "source": [
    "## Data Analysis"
   ]
  },
  {
   "attachments": {},
   "cell_type": "markdown",
   "id": "d5b620bd-0b64-4384-ad94-914edf549a1f",
   "metadata": {},
   "source": [
    "- **Total Number of schools**: 18\n",
    "- **Total Number of tutorial groups**: 120\n",
    "- **Total Number of Males**: 2759\n",
    "- **Total Number of Females**: 3241\n",
    "- **Average GPA in Males**: 11290.87/2759 = 4.092\n",
    "- **Average GPA in Females**: 13241.08/3241 = 4.085\n",
    "- **Average GPA**: 4.089\n"
   ]
  },
  {
   "cell_type": "markdown",
   "id": "5e3cf47b-4bbf-45bb-8fa3-a5658f94eb41",
   "metadata": {},
   "source": [
    "## Computational Thinking: Divide and Conquer"
   ]
  },
  {
   "cell_type": "markdown",
   "id": "7c2e5bf3-eba0-4ae1-8837-942282e84382",
   "metadata": {},
   "source": [
    "<img src=\"assets/DivideStudents.png\" alt=\"DivideStudents\" width=\"50%\" height=\"50%\"/>"
   ]
  },
  {
   "cell_type": "markdown",
   "id": "d19ce09f-7720-4bb0-af77-19dde82cf978",
   "metadata": {},
   "source": [
    "<img src=\"assets/AssignStudents.png\" alt=\"AssignStudents\" width=\"50%\" height=\"50%\"/>"
   ]
  },
  {
   "cell_type": "markdown",
   "id": "603c8e7a-5783-4e20-b15e-6c5b3ebda7e9",
   "metadata": {},
   "source": [
    "## Function to read CSV and store data"
   ]
  },
  {
   "cell_type": "markdown",
   "id": "074b06a1-80a3-4598-984c-87d675810b5b",
   "metadata": {},
   "source": [
    "<img src=\"assets/input_csv.png\" alt=\"input_csv\" width=\"40%\" height=\"40%\">"
   ]
  },
  {
   "cell_type": "markdown",
   "id": "d6b6506c-d0dd-4cda-aab9-4ba3fd27814f",
   "metadata": {},
   "source": [
    "#### Reading of records.csv file and storing data\n",
    "1. Extract header into a list for later use\n",
    "2. Represent each student as a dictionary of their details\n",
    "3. Append each student dictionary to a list associated with their tutorial group key in stuDict.\n",
    "##### Return the header list and stuDict, where tutorial groups are keys with lists of student dictionaries as values."
   ]
  },
  {
   "cell_type": "code",
   "execution_count": 97,
   "id": "917aee9d-8e8c-45c2-b14e-c9b03e7120f6",
   "metadata": {},
   "outputs": [],
   "source": [
    "#Import necessary Libraries\n",
    "from collections import defaultdict, Counter\n",
    "from matplotlib import pyplot as plt #Only used for Algorithm Evaluation, not used in sorting\n",
    "\n",
    "team_size=0\n",
    "\n",
    "def read_from_file(filename):\n",
    "    header, stuDict = [], defaultdict(list)\n",
    "    try:\n",
    "        with open(filename) as stuRecords:\n",
    "            header = stuRecords.readline().strip().split(',') \n",
    "            for line in stuRecords:\n",
    "                #tg, si, sch, name, gen, GPA\n",
    "                student = line.split(',') \n",
    "                stuDict[student[0]].append({ #Seperating students into their tutorial groups\n",
    "                    \"tg\": student[0],\n",
    "                    \"stu_idx\": student[1],\n",
    "                    \"sch\": student[2],\n",
    "                    \"name\": student[3],\n",
    "                    \"gender\": student[4],\n",
    "                    \"gpa\": float(student[5])\n",
    "                })\n",
    "    except FileNotFoundError:\n",
    "        print(\"Error in read_from_file(): File does not exist, try again!\")\n",
    "    except PermissionError:\n",
    "        print(\"Error in read_from_file(): You do not have permission to this file!\")\n",
    "    except IsADirectoryError:\n",
    "        print(\"Error in read_from_file(): Filename is a directory, please input filename!\")\n",
    "    except Exception as e:\n",
    "        print (\"Error in read_from_file(): An Unexpected Error has occured!\"+e)\n",
    "    else:\n",
    "        return stuDict, header"
   ]
  },
  {
   "cell_type": "markdown",
   "id": "857b81fd-311a-4674-8b4a-e36e5c19900d",
   "metadata": {},
   "source": [
    "## Assign teams using students sorted by tutorial groups"
   ]
  },
  {
   "cell_type": "markdown",
   "id": "b714d797-9a75-43cc-aee5-d5a0309e64e6",
   "metadata": {},
   "source": [
    "<img src=\"assets/assign_team.png\" alt=\"assign_team\" width=\"40%\" height=\"40%\">"
   ]
  },
  {
   "cell_type": "markdown",
   "id": "bfe2ef7d-db64-4cb6-b556-38863ba9d576",
   "metadata": {},
   "source": [
    "#### Assigning Teams with team_size=5 (BASIC)\n",
    "1. For each tutorial group, sort the students by their schools(keys) in a dictionary sort_sch\n",
    "2. The value for the schools in sort_sch will be a list of 2 lists [[],[]], first sublist for male and second for females.\n",
    "3. Then sort the males (ascending) and females(descending) in each school.\n",
    "4. From each school, alternating the genders and gpa a student will be added into temp_team list until there is 5 students.\n",
    "5. The students taken are popped from the sublist, and the schools with no students eventually will be deleted from the sort_sch dictionary\n",
    "6. In the case where the next school does not have the required gender, the algorithm will still fulfill the alternating high and low gpa requirement\n",
    "7. The team formed is then appended to team_list which is the final return list of all the teams\n",
    "8. Eventually sort_sch will have no schools left and the algorithm will proceed to sort the next tutorial group in tut_data\n",
    "##### Return team_list"
   ]
  },
  {
   "cell_type": "code",
   "execution_count": 98,
   "id": "dba96da0-a090-43d4-96ac-00371962e0b5",
   "metadata": {},
   "outputs": [],
   "source": [
    "#What we have: Dict of tutorial group(keys) with list of dict of students from tg(values)\n",
    "def assign_team(tut_data):\n",
    "    global team_size\n",
    "    team_size=5\n",
    "    team_list = [] #Final return list of all the teams\n",
    "    \n",
    "    #Sort students into their respective schools\n",
    "    for t_grps in tut_data: \n",
    "        sort_sch = defaultdict(lambda: [[], []]) #Reset sort_sch dictionary for each tutorial group\n",
    "        #Sort students into their respective schools (this sorting is contained in each tut grp)\n",
    "        for student in tut_data[t_grps]: #Access individual student's in each t_grp\n",
    "            if student['gender'] == \"Male\":\n",
    "                sort_sch[student['sch']][0].append(student) #Add male students to 1st sublist\n",
    "            else:\n",
    "                sort_sch[student['sch']][1].append(student) #Add female students to 2nd sublist\n",
    "\n",
    "        #Sort each school by GPA\n",
    "        for students in sort_sch.values():\n",
    "            students[0].sort(key = lambda student: student['gpa']) #Sort the male sublist from lowest gpa to highest gpa\n",
    "            students[1].sort(key = lambda student: student['gpa'], reverse = True) #Sort the female sublist from highest gpa to lowest gpa\n",
    "            \n",
    "        temp_team = []\n",
    "        #Assigning teams\n",
    "        while sort_sch:\n",
    "            is_Male = True\n",
    "            for school in list(sort_sch.keys()):\n",
    "                #Gen_chooser will choose from boys if even, odd from girls\n",
    "                if is_Male:\n",
    "                    chosen_gen = 0\n",
    "                    is_Male = False #Change to other gender for next student in next iteration\n",
    "                else:\n",
    "                    chosen_gen = 1\n",
    "                    is_Male = True\n",
    "                #If no more students remove school from the dictionary\n",
    "                if not sort_sch[school][0] and not sort_sch[school][1]:\n",
    "                    del sort_sch[school]\n",
    "                #Team formed break out of loop\n",
    "                elif len(temp_team) == team_size:\n",
    "                    break\n",
    "                elif sort_sch[school][chosen_gen]:\n",
    "                    temp_team.append(sort_sch[school][chosen_gen][-1])\n",
    "                    sort_sch[school][chosen_gen].pop()\n",
    "                #If no more males, choose females and vice-versa\n",
    "                else:\n",
    "                    if chosen_gen == 0:\n",
    "                        temp_team.append(sort_sch[school][1][0])\n",
    "                        sort_sch[school][1].pop(0)\n",
    "                    else:\n",
    "                        temp_team.append(sort_sch[school][0][0])\n",
    "                        sort_sch[school][0].pop(0)\n",
    "\n",
    "            if len(temp_team) == team_size:\n",
    "                # Add each team to overall team list and clear the temporary team\n",
    "                team_list.append(temp_team)\n",
    "                temp_team = []\n",
    "                \n",
    "    return team_list"
   ]
  },
  {
   "cell_type": "markdown",
   "id": "711d5ae7-6e9f-4e5c-bb50-7e47d5eff0ea",
   "metadata": {},
   "source": [
    "### Assigning Teams with variable team_size [4 to 10] (ENHANCED)"
   ]
  },
  {
   "cell_type": "markdown",
   "id": "060b07c2-0bd8-4e2f-9d2b-271b381d3c63",
   "metadata": {},
   "source": [
    "<img src=\"assets/assign_team_(A).png\" alt=\"assign_team\" width=\"50%\" height=\"50%\"> "
   ]
  },
  {
   "cell_type": "code",
   "execution_count": 99,
   "id": "bbecc64b-5dd6-4371-8623-ed452b0fd705",
   "metadata": {},
   "outputs": [],
   "source": [
    "#What we have: Dict of tutorial group(keys) with list of dict of students from tg(values)\n",
    "def assign_team_a(tut_data):\n",
    "    global team_size\n",
    "    team_size = 11\n",
    "    team_list = [] #Final return list of all the teams\n",
    "\n",
    "    #Additional Requirement\n",
    "    #Let course coordinator choose team size (4-10), 5 and 10 no problem\n",
    "    #4->12 R 2 6 -> 8 R 2  7 -> 7 R 1  8->6 R 2 9->5 R 5\n",
    "    # 2 approaches:\n",
    "    # 1. Let the remainder be another team means there will be a group of very little people\n",
    "    # 2. Combine the remainder to the previous teams\n",
    "    while team_size < 4 or team_size > 10:\n",
    "        team_size = int(input(\"Enter the number of students to form a team i.e. (4 - 10): \"))\n",
    "\n",
    "    if team_size != 5 and team_size != 10:\n",
    "        print(\"Number of teams per tutorial group: \", 50 // team_size, \"\\n\")\n",
    "        print(\"Remainder of \", 50 % team_size, \"will be distributed across teams within the tutorial group.\\n\")\n",
    "    else:\n",
    "        print(\"Number of teams per tutorial group:\", 50 // team_size)\n",
    "    \n",
    "    #Sort students into their respective schools\n",
    "    for t_grps in tut_data: \n",
    "        sort_sch = defaultdict(lambda: [[], []]) #Reset sort_sch dictionary for each tutorial group\n",
    "        #Sort students into their respective schools (this sorting is contained in each tut grp)\n",
    "        for student in tut_data[t_grps]: #Access individual student's in each t_grp\n",
    "            if student['gender'] == \"Male\":\n",
    "                sort_sch[student['sch']][0].append(student) #Add male students to 1st sublist\n",
    "            else:\n",
    "                sort_sch[student['sch']][1].append(student) #Add female students to 2nd sublist\n",
    "\n",
    "        #Sort each school by GPA\n",
    "        for students in sort_sch.values():\n",
    "            students[0].sort(key = lambda student: student['gpa']) #Sort the male sublist from lowest gpa to highest gpa\n",
    "            students[1].sort(key = lambda student: student['gpa'], reverse = True) #Sort the female sublist from highest gpa to lowest gpa\n",
    "            \n",
    "        temp_team = []\n",
    "        #Assigning teams\n",
    "        while sort_sch:\n",
    "            is_Male = True\n",
    "            for school in list(sort_sch.keys()):\n",
    "                #Gen_chooser will choose from boys if even, odd from girls\n",
    "                if is_Male:\n",
    "                    chosen_gender = 0\n",
    "                    is_Male = False #Change to other gender for next student in next iteration\n",
    "                else:\n",
    "                    chosen_gender = 1\n",
    "                    is_Male = True\n",
    "                #If no more students remove school from the dictionary\n",
    "                if not sort_sch[school][0] and not sort_sch[school][1]:\n",
    "                    del sort_sch[school]\n",
    "                #If team is formed break out of loop\n",
    "                elif len(temp_team) == team_size:\n",
    "                    break\n",
    "                elif sort_sch[school][chosen_gender]:\n",
    "                    temp_team.append(sort_sch[school][chosen_gender][-1]) \n",
    "                    sort_sch[school][chosen_gender].pop()\n",
    "                #If no more males, choose females and vice-versa\n",
    "                else:\n",
    "                    if chosen_gender == 0:\n",
    "                        temp_team.append(sort_sch[school][1][0])\n",
    "                        sort_sch[school][1].pop(0)\n",
    "                    else:\n",
    "                        temp_team.append(sort_sch[school][0][0])\n",
    "                        sort_sch[school][0].pop(0)\n",
    "                        \n",
    "            #If the last team made within the tut grp is deficient then put each student into the previous\n",
    "            if len(temp_team) != team_size and not sort_sch:\n",
    "                #Track beginning of team within tut grp\n",
    "                start = len(team_list) - (50 // team_size)\n",
    "                while temp_team:\n",
    "                    team_list[start].append(temp_team.pop())\n",
    "                    start += 1 \n",
    "                \n",
    "            if len(temp_team) == team_size:\n",
    "                # Add each team to overall team list and clear the temporary team\n",
    "                team_list.append(temp_team)\n",
    "                temp_team = []\n",
    "                \n",
    "    return team_list"
   ]
  },
  {
   "cell_type": "markdown",
   "id": "045f4475-2056-493c-9416-24c00a7c8228",
   "metadata": {},
   "source": [
    "## Write student data with team assigned"
   ]
  },
  {
   "cell_type": "markdown",
   "id": "59ba9bd8-6a4c-41d9-a239-f42e5e2cd2eb",
   "metadata": {},
   "source": [
    "<img src=\"assets/output_csv.png\" alt=\"output_csv\" width=\"50%\" height=\"50%\">"
   ]
  },
  {
   "cell_type": "markdown",
   "id": "552bb034-1a1a-4420-904b-15c7f31a8657",
   "metadata": {},
   "source": [
    "#### Writing the student data and their teams assigned into a file\n",
    "1. Write the extracted header with a new column Teams Assigned\n",
    "2. Each row will be the values within the Student dictionary and the Teams Assigned will be the +1 of the index of the team in the final_teams list\n",
    "##### Return New csv file with Teams Assigned"
   ]
  },
  {
   "cell_type": "code",
   "execution_count": 100,
   "id": "433f8b54-8d7c-47a2-87a8-4d8932fdbf4a",
   "metadata": {},
   "outputs": [],
   "source": [
    "def write_into_file(header, final_teams,output_file):\n",
    "    try:\n",
    "        with open(output_file, 'w', newline = '') as file:\n",
    "            new_Header = ','.join(header) + \",Teams Assigned\\n\" #Form new header by concatenating current header with \"Teams Assigned\" \n",
    "            file.writelines(new_Header)\n",
    "            for index, groups in enumerate(final_teams):\n",
    "                for students in groups:\n",
    "                    stu_row = list(students.values())\n",
    "                    stu_row.append(str(index+1))\n",
    "                    row_string = ','.join(map(str,stu_row))+'\\n'\n",
    "                    file.writelines(row_string)\n",
    "    except Exception as e:\n",
    "        print(\"Error in write_into_file():An error has occured\", e)"
   ]
  },
  {
   "cell_type": "markdown",
   "id": "00abe5ca-22b5-46d4-848f-73a20ea39a52",
   "metadata": {},
   "source": [
    "## Algorithm Evaluation Function"
   ]
  },
  {
   "cell_type": "code",
   "execution_count": 101,
   "id": "080ac08b-6631-4d0a-92ee-25297d42d505",
   "metadata": {},
   "outputs": [],
   "source": [
    "# ANALYSIS ==============================================================================================\n",
    "#ANALYSIS, plot average gpa\n",
    "\n",
    "#Function for fairness analysis\n",
    "#Calculate:\n",
    "#1. Difference in gender (Male - Females) for each team\n",
    "#2. Average GPA within each team\n",
    "#3. Max number of same school per team\n",
    "\n",
    "def fairness_analysis(teams):\n",
    "    gender_difference, average_gpa, max_schools_per_team=[],[],[]\n",
    "    for team in teams:\n",
    "        schools, max_school, males, females, tot_gpa = defaultdict(int), 0, 0, 0, 0\n",
    "        for student in team:\n",
    "            if student[\"gender\"] == \"Male\":\n",
    "                males += 1\n",
    "            else:\n",
    "                females += 1\n",
    "            tot_gpa += student['gpa']\n",
    "            schools[student['sch']] += 1\n",
    "            max_school = max(max_school, schools[student['sch']])\n",
    "\n",
    "        gender_difference.append(abs(males - females))\n",
    "        average_gpa.append(tot_gpa / len(team))\n",
    "        max_schools_per_team.append(max_school)\n",
    "    return gender_difference, average_gpa, max_schools_per_team"
   ]
  },
  {
   "cell_type": "markdown",
   "id": "ebf98bc7-ad75-497e-ba38-7b93ac0d63e6",
   "metadata": {},
   "source": [
    "## Main"
   ]
  },
  {
   "cell_type": "code",
   "execution_count": 102,
   "id": "e3116e6b-90be-4b52-bb33-e4ebc8fd019c",
   "metadata": {
    "scrolled": true
   },
   "outputs": [
    {
     "name": "stdout",
     "output_type": "stream",
     "text": [
      "Enter the number of students to form a team i.e. (4 - 10):  5\n"
     ]
    },
    {
     "name": "stdout",
     "output_type": "stream",
     "text": [
      "Number of teams per tutorial group: 10\n"
     ]
    }
   ],
   "source": [
    "try:\n",
    "    #Reading from records\n",
    "    tut_data, header = read_from_file(\"assets/records.csv\")\n",
    "    \n",
    "    #Assigning Teams\n",
    "    final_teams = assign_team_a(tut_data)\n",
    "\n",
    "    #Writing teams into new file\n",
    "    write_into_file(header, final_teams, \"FCEC_Team2.csv\")\n",
    "    \n",
    "    #Algorithm Evaluation\n",
    "    gender_difference, average_gpa, max_schools_per_team = fairness_analysis(final_teams)\n",
    "    \n",
    "except Exception as e:\n",
    "    #Error is returned in the try itself\n",
    "    print(\"Error within main:\", e)"
   ]
  },
  {
   "cell_type": "markdown",
   "id": "922f031b-33d7-40b0-b0c8-3a2fb3e9ab72",
   "metadata": {},
   "source": [
    "# Algorithm Evaluation"
   ]
  },
  {
   "cell_type": "markdown",
   "id": "87814849-7b93-4a0f-938e-3af2b6d71629",
   "metadata": {},
   "source": [
    "## Functions for plotting data into charts\n",
    "**dispAvgGPA()** plots the average GPA of every group into a box and whisker plot. <br>\n",
    "**dispGenderDiff()** plots the gender difference for every group into a box and whisker plot.<br>\n",
    "**dispMaxSchools()** displays the max schools for each team into a bar graph"
   ]
  },
  {
   "cell_type": "code",
   "execution_count": 103,
   "id": "6f711dab-a0f4-43b7-b9e5-de0edbdb9feb",
   "metadata": {},
   "outputs": [],
   "source": [
    "def dispAvgGPA():\n",
    "    #Plot average GPA for every group\n",
    "    plt.boxplot(average_gpa)          \n",
    "    plt.title('Average GPA of groups')        \n",
    "    plt.ylabel('Avg GPA')\n",
    "            \n",
    "    #show plot\n",
    "    plt.show()\n",
    "    \n",
    "def dispGenderDiff():\n",
    "    #Plot average GPA for every group\n",
    "    plt.boxplot(gender_difference)           \n",
    "    plt.title('Gender Diff (Male - Female)')        \n",
    "    plt.ylabel('Difference')\n",
    "            \n",
    "    #show plot\n",
    "    plt.show()        \n",
    "    \n",
    "def dispMaxSchools():\n",
    "    #Plot average GPA for every group\n",
    "    numberOfMaxList = [(x+1) for x in range(team_size)]\n",
    "    maxList = [num for num in Counter(max_schools_per_team)]\n",
    "    plt.bar(maxList, Counter(max_schools_per_team).values(), color = \"dodgerblue\", width = 0.4)  \n",
    "    plt.title('Max of Same School Per Team')        \n",
    "    plt.ylabel('Number of groups')\n",
    "    plt.show()        \n"
   ]
  },
  {
   "cell_type": "markdown",
   "id": "e9b5015b-0f5d-48dc-be1e-6e5f86db8f1a",
   "metadata": {},
   "source": [
    "### Display charts"
   ]
  },
  {
   "cell_type": "code",
   "execution_count": 104,
   "id": "6a08ffd8-212e-48cc-8c72-5d9f32d4831c",
   "metadata": {},
   "outputs": [
    {
     "data": {
      "image/png": "[encoded data removed]",
      "text/plain": [
       "<Figure size 640x480 with 1 Axes>"
      ]
     },
     "metadata": {},
     "output_type": "display_data"
    }
   ],
   "source": [
    "dispAvgGPA()"
   ]
  },
  {
   "cell_type": "code",
   "execution_count": 105,
   "id": "d0bf37cd-6846-46f5-9e0f-3f33a913fade",
   "metadata": {},
   "outputs": [
    {
     "data": {
      "image/png": "[encoded data removed]",
      "text/plain": [
       "<Figure size 640x480 with 1 Axes>"
      ]
     },
     "metadata": {},
     "output_type": "display_data"
    }
   ],
   "source": [
    "dispGenderDiff()"
   ]
  },
  {
   "cell_type": "markdown",
   "id": "1ab4f660-8751-4625-89b9-2232902fbf27",
   "metadata": {},
   "source": [
    "##### Analysis of gender difference plot:\n",
    "As seen from the box and whiskers plot, the vast majority of the groups have a gender difference within 1-3. This means that most groups have an even balance of genders\n",
    "\n"
   ]
  },
  {
   "cell_type": "code",
   "execution_count": 106,
   "id": "9d54b233-12d3-40b7-a2a6-b666d284991f",
   "metadata": {},
   "outputs": [
    {
     "data": {
      "image/png": "[encoded data removed]",
      "text/plain": [
       "<Figure size 640x480 with 1 Axes>"
      ]
     },
     "metadata": {},
     "output_type": "display_data"
    }
   ],
   "source": [
    "dispMaxSchools()"
   ]
  },
  {
   "cell_type": "markdown",
   "id": "9ae84dc8-6087-43ba-9120-0fe3e44ff1de",
   "metadata": {},
   "source": [
    "# Challenges and Issues"
   ]
  },
  {
   "cell_type": "markdown",
   "id": "3500d063-8190-4a9a-bf67-9fb2934d2749",
   "metadata": {},
   "source": [
    "1. Visualizing how the data should be sorted\n",
    "   - Since the data had a lot of nested lists and dictionaries (lists/dicts within a list/dict), accessing and sorting the data proved to be very challenging as it was difficult to understand. To help us with this challenge, we drew out tables and created flowcharts to better visualise how the data is stored. This made it easier to manipulate the data for our algorithm\n",
    "2. Handling a large dataset without external libraries like numpy, pandas\n",
    "3. Finding ways to optimize the algorithm\n",
    "   - Used lambda function instead of custom merge sort (for time and space complexity concerns)\n",
    "   - Use of defaultdict() from collections library for easier appending of data into dictionary\n",
    "4. Deciding how to decompose program into appropriate functions\n"
   ]
  },
  {
   "cell_type": "markdown",
   "id": "a6768eb9-8ffb-4590-a6c4-5d313830da1e",
   "metadata": {},
   "source": [
    "# Conclusion"
   ]
  },
  {
   "cell_type": "markdown",
   "id": "fdad3958-6fc3-4a27-b6fe-3b21a5232535",
   "metadata": {},
   "source": [
    "1. Organized our code into modular functions \n",
    "     - Improves readability and maintainability\n",
    "     - Isolated testing of individual components\n",
    "     - Streamline the process of identifying and fixing any issues\n",
    "2. Algorithm considers and sorts based on all given criteria such as school affiliation, gender, and GPA, rather than using random allocation methods\n",
    "3. Include built-in error handling to manage potential issues such as empty input or invalid data types"
   ]
  }
 ],
 "metadata": {
  "kernelspec": {
   "display_name": "Python 3 (ipykernel)",
   "language": "python",
   "name": "python3"
  },
  "language_info": {
   "codemirror_mode": {
    "name": "ipython",
    "version": 3
   },
   "file_extension": ".py",
   "mimetype": "text/x-python",
   "name": "python",
   "nbconvert_exporter": "python",
   "pygments_lexer": "ipython3",
   "version": "3.12.7"
  }
 },
 "nbformat": 4,
 "nbformat_minor": 5
}
